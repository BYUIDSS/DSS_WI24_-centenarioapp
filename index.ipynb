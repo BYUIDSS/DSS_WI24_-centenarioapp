{
  "cells": [
    {
      "cell_type": "raw",
      "metadata": {},
      "source": [
        "---\n",
        "title: \"Centenario Rent a Car APP\"\n",
        "format: dashboard\n",
        "# use quarto markdown to \n",
        "---"
      ],
      "id": "e7697cc0"
    },
    {
      "cell_type": "markdown",
      "metadata": {},
      "source": [
        "## Reporte de traslados\n"
      ],
      "id": "ff9202af"
    },
    {
      "cell_type": "code",
      "metadata": {
        "context": "setup"
      },
      "source": [
        "import seaborn as sns\n",
        "import pandas as pd\n",
        "from shiny import render, reactive, ui\n",
        "\n",
        "centenario = pd.read_csv(\"raw_data/centenario_dataset.csv\")"
      ],
      "id": "47d0d088",
      "execution_count": null,
      "outputs": []
    },
    {
      "cell_type": "markdown",
      "metadata": {},
      "source": [
        "# {.sidebar}\n"
      ],
      "id": "438a34d4"
    },
    {
      "cell_type": "code",
      "metadata": {},
      "source": [
        "def ui_func():\n",
        "    return ui.page_fluid(\n",
        "        ui.input_checkbox_group(\"car_type\", \"Car Type:\", \n",
        "                                choices=list(centenario[\"Type\"].value_counts().index)),\n",
        "        ui.output_text_verbatim(\"selected_car_type\")\n",
        "    )\n",
        "def server(input, output, session):\n",
        "    @output\n",
        "    @render.text\n",
        "    def selected_car_type():\n",
        "        return f\"Selected Car Types: {input.car_type()}\"\n",
        "#"
      ],
      "id": "8497cd9b",
      "execution_count": null,
      "outputs": []
    }
  ],
  "metadata": {
    "kernelspec": {
      "display_name": "Python 3",
      "language": "python",
      "name": "python3"
    }
  },
  "nbformat": 4,
  "nbformat_minor": 5
}